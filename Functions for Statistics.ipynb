{
 "cells": [
  {
   "cell_type": "code",
   "execution_count": 27,
   "metadata": {},
   "outputs": [],
   "source": [
    "import random"
   ]
  },
  {
   "cell_type": "code",
   "execution_count": 28,
   "metadata": {},
   "outputs": [],
   "source": [
    "def mean(_list):\n",
    "    num_of_observations = len(_list)\n",
    "    sum_of_observations = sum(_list)\n",
    "    mean = sum_of_observations/num_of_observations\n",
    "    \n",
    "    return mean"
   ]
  },
  {
   "cell_type": "code",
   "execution_count": 29,
   "metadata": {},
   "outputs": [],
   "source": [
    "def median(_list):\n",
    "    \n",
    "    #median for even numbers\n",
    "    if (len(_list) % 2 ) == 0:\n",
    "        _list.sort()\n",
    "        print(_list)\n",
    "        mid = len(_list)/2\n",
    "        index= int(mid)\n",
    "        median = (a[index-1] + a[index]) / 2\n",
    "        \n",
    "     #median for odd numbers   \n",
    "    else:  \n",
    "        _list.sort()\n",
    "        print(_list)\n",
    "        mid = len(_list)/2\n",
    "        index= int(mid)\n",
    "        median = _list[index]\n",
    "        \n",
    "    return median"
   ]
  },
  {
   "cell_type": "code",
   "execution_count": 30,
   "metadata": {},
   "outputs": [],
   "source": [
    "def percentile(_list, nth_percentile): #takes a list of numbers and the nth percentile you want to find\n",
    "    num_of_observations = len(_list)\n",
    "    percentile = (nth_percentile/100) * num_of_observations\n",
    "    \n",
    "    return percentile\n",
    "    "
   ]
  },
  {
   "cell_type": "code",
   "execution_count": 31,
   "metadata": {},
   "outputs": [],
   "source": [
    "def standard_deviation(_list):\n",
    "    num_of_observations = len(_list)\n",
    "    sum_of_observations = sum(_list)\n",
    "    mean = sum_of_observations/num_of_observations\n",
    "    list_variance = []\n",
    "    for i in _list:\n",
    "        dispersion = (i - mean) ** 2\n",
    "        list_variance.append(dispersion)\n",
    "    sum_of_variance = sum(list_variance)\n",
    "    variance = sum_of_variance/num_of_observations\n",
    "    standard_deviation = variance ** 0.5\n",
    "    \n",
    "    return standard_deviation\n",
    "    "
   ]
  },
  {
   "cell_type": "code",
   "execution_count": 33,
   "metadata": {},
   "outputs": [
    {
     "name": "stdout",
     "output_type": "stream",
     "text": [
      "[10, 11, 12, 12, 19, 19, 23, 24, 28, 31, 31, 32, 35, 36, 37, 39, 41, 41, 47, 48, 50]\n",
      "\n",
      " 29.80952380952381 \n",
      " 31 \n",
      " 15.96 \n",
      " 12.327356522014833\n"
     ]
    }
   ],
   "source": [
    "a = [random.randint(10, 50) for a in range(21)]\n",
    "m = mean(a)\n",
    "mm = median(a)\n",
    "p = percentile(a, 76)\n",
    "s = standard_deviation(a)\n",
    "print(\"\\n\" ,  m,\"\\n\" , mm,\"\\n\" , p,\"\\n\" , s)"
   ]
  },
  {
   "cell_type": "code",
   "execution_count": null,
   "metadata": {},
   "outputs": [],
   "source": []
  },
  {
   "cell_type": "code",
   "execution_count": null,
   "metadata": {},
   "outputs": [],
   "source": []
  }
 ],
 "metadata": {
  "kernelspec": {
   "display_name": "Python 3",
   "language": "python",
   "name": "python3"
  },
  "language_info": {
   "codemirror_mode": {
    "name": "ipython",
    "version": 3
   },
   "file_extension": ".py",
   "mimetype": "text/x-python",
   "name": "python",
   "nbconvert_exporter": "python",
   "pygments_lexer": "ipython3",
   "version": "3.7.3"
  }
 },
 "nbformat": 4,
 "nbformat_minor": 2
}
