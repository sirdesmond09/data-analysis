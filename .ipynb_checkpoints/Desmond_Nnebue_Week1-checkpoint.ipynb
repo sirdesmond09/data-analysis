{
 "cells": [
  {
   "cell_type": "markdown",
   "metadata": {},
   "source": [
    "<h2>Rock Paper Scissors</h2>"
   ]
  },
  {
   "cell_type": "code",
   "execution_count": 1,
   "metadata": {},
   "outputs": [],
   "source": [
    "def begin():\n",
    "    G=['rock', 'paper', 'scissors']\n",
    "    y=1    \n",
    "    a=0\n",
    "    b=0\n",
    "    d=0\n",
    "    print(\"Rock, Paper, Scissors!\")\n",
    "    while y<=5:\n",
    "        print(\"What's your choice?\")\n",
    "        P1=input(\"> \").lower()\n",
    "        print(f\"\\nYou chose {P1}\")\n",
    "        import random\n",
    "        r=random.choice(G)\n",
    "        print(f\"Computer chose {r}\")\n",
    "        if(P1==G[0] and r==G[0]):\n",
    "            print(\"draw\\n\\n\")\n",
    "        elif(P1==G[1] and r==G[1]):\n",
    "            print(\"draw\\n\\n\")\n",
    "        elif(P1==G[2] and r==G[2]):\n",
    "            print(\"draw\\n\\n\")\n",
    "        elif(P1==G[0] and r==G[2]):\n",
    "            print(\"player wins\\n\\n\")\n",
    "            a=a+1\n",
    "        elif(P1==G[1] and r==G[0]):\n",
    "            print(\"player wins\\n\\n\")\n",
    "            a=a+1\n",
    "        elif(P1==G[2] and r==G[1]):\n",
    "            print(\"player wins\\n\\n\")\n",
    "            a=a+1\n",
    "        elif(P1==G[0] and r==G[1]):\n",
    "            print(\"computer wins\\n\\n\")\n",
    "            b=b+1\n",
    "        elif(P1==G[1] and r==G[2]):\n",
    "            print(\"computer wins\\n\\n\")\n",
    "            b=b+1\n",
    "        elif(P1==G[2] and r==G[0]):\n",
    "            print(\"computer wins\\n\\n\")\n",
    "            b=b+1\n",
    "        else:\n",
    "            print(\"invalid entry\\n\\n\")\n",
    "        y+=1\n",
    "        \n",
    "    result = [ 'winner', 'you lose', 'no winner' ]\n",
    "    if(a>=2 and  b<2):\n",
    "        score = result[0]\n",
    "        print(score)\n",
    "        try_again()\n",
    "    elif(b>=2 and a<2):\n",
    "        score = result[1]\n",
    "        print(score)\n",
    "        try_again()\n",
    "    else:\n",
    "        score = result[2]\n",
    "        print(score)\n",
    "        try_again()\n",
    "       "
   ]
  },
  {
   "cell_type": "code",
   "execution_count": 2,
   "metadata": {},
   "outputs": [],
   "source": [
    "def help():\n",
    "    print(\"\"\"\n",
    "Rock Paper Sciccors a.k.a RPS is a very simple game to play\n",
    "You can start by clicking 'B'\n",
    "You only have 5 chances after which the result would be announced!\n",
    "Good Luck!    \n",
    "    \"\"\")\n",
    "\n"
   ]
  },
  {
   "cell_type": "code",
   "execution_count": 3,
   "metadata": {},
   "outputs": [],
   "source": [
    "def try_again():\n",
    "    while True:     \n",
    "        again = ['y', 'n']\n",
    "        print(\"Try again? Y or N\")\n",
    "        option_try = input('> ').lower()\n",
    "        if option_try == again[0]:\n",
    "            begin()\n",
    "        elif option_try == again[1]:\n",
    "            print(\"Game Over\")\n",
    "            break\n",
    "        else:\n",
    "            print(\"Invalid input\")\n",
    "\n",
    "        \n",
    "\n",
    "\n"
   ]
  },
  {
   "cell_type": "code",
   "execution_count": 4,
   "metadata": {},
   "outputs": [],
   "source": [
    "\n",
    "print(\"WELCOME TO RPS!\")\n",
    "\n",
    "options = ['h', 'b', 'end']\n",
    "\n",
    "while True:\n",
    "    print(\"click 'H' for help, 'B' to begin or 'END' to quit\")\n",
    "    option = input(\"> \").lower()\n",
    "    if option==options[0]:\n",
    "        help()\n",
    "    elif option == options[1]:\n",
    "        begin()\n",
    "\n",
    "    elif option == options[2]:\n",
    "        print(\"\\nThanks for playing\\nWe hope to see you soon!!!\")\n",
    "        break\n",
    "        break\n",
    "        \n",
    "    else:\n",
    "        print(\"Try again\")"
   ]
  },
  {
   "cell_type": "markdown",
   "metadata": {},
   "source": [
    "<h2>Statistical Functions</h2>"
   ]
  },
  {
   "cell_type": "code",
   "execution_count": 5,
   "metadata": {},
   "outputs": [],
   "source": [
    "import random"
   ]
  },
  {
   "cell_type": "code",
   "execution_count": 6,
   "metadata": {},
   "outputs": [],
   "source": [
    "def mean(_list):\n",
    "    num_of_observations = len(_list)\n",
    "    sum_of_observations = sum(_list)\n",
    "    mean = sum_of_observations/num_of_observations\n",
    "    \n",
    "    return mean"
   ]
  },
  {
   "cell_type": "code",
   "execution_count": 7,
   "metadata": {},
   "outputs": [],
   "source": [
    "def median(_list):\n",
    "    \n",
    "    #median for even numbers\n",
    "    if (len(_list) % 2 ) == 0:\n",
    "        _list.sort()\n",
    "        print(_list)\n",
    "        mid = len(_list)/2\n",
    "        index= int(mid)\n",
    "        median = (a[index-1] + a[index]) / 2\n",
    "        \n",
    "     #median for odd numbers   \n",
    "    else:  \n",
    "        _list.sort()\n",
    "        print(_list)\n",
    "        mid = len(_list)/2\n",
    "        index= int(mid)\n",
    "        median = _list[index]\n",
    "        \n",
    "    return median"
   ]
  },
  {
   "cell_type": "code",
   "execution_count": 8,
   "metadata": {},
   "outputs": [],
   "source": [
    "def percentile(_list, nth_percentile): #takes a list of numbers and the nth percentile you want to find\n",
    "    num_of_observations = len(_list)\n",
    "    percentile = (nth_percentile/100) * num_of_observations\n",
    "    \n",
    "    return percentile\n",
    "    "
   ]
  },
  {
   "cell_type": "code",
   "execution_count": 9,
   "metadata": {},
   "outputs": [],
   "source": [
    "def standard_deviation(_list):\n",
    "    num_of_observations = len(_list)\n",
    "    sum_of_observations = sum(_list)\n",
    "    mean = sum_of_observations/num_of_observations\n",
    "    list_variance = []\n",
    "    for i in _list:\n",
    "        dispersion = (i - mean) ** 2\n",
    "        list_variance.append(dispersion)\n",
    "    sum_of_variance = sum(list_variance)\n",
    "    variance = sum_of_variance/num_of_observations\n",
    "    standard_deviation = variance ** 0.5\n",
    "    \n",
    "    return standard_deviation\n",
    "    "
   ]
  },
  {
   "cell_type": "code",
   "execution_count": null,
   "metadata": {},
   "outputs": [],
   "source": [
    "a = [random.randint(10, 50) for a in range(21)]\n",
    "m = mean(a)\n",
    "mm = median(a)\n",
    "p = percentile(a, 76)\n",
    "s = standard_deviation(a)\n",
    "print(\"\\n\" ,  m,\"\\n\" , mm,\"\\n\" , p,\"\\n\" , s)"
   ]
  }
 ],
 "metadata": {
  "kernelspec": {
   "display_name": "Python 3",
   "language": "python",
   "name": "python3"
  },
  "language_info": {
   "codemirror_mode": {
    "name": "ipython",
    "version": 3
   },
   "file_extension": ".py",
   "mimetype": "text/x-python",
   "name": "python",
   "nbconvert_exporter": "python",
   "pygments_lexer": "ipython3",
   "version": "3.7.3"
  }
 },
 "nbformat": 4,
 "nbformat_minor": 2
}
